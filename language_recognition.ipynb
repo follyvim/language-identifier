{
 "cells": [
  {
   "cell_type": "code",
   "execution_count": 1,
   "id": "3f1dc6b9-3d5d-49a7-b2ea-01a2b48f21cc",
   "metadata": {},
   "outputs": [],
   "source": [
    "import pandas as pd\n",
    "import numpy as np\n",
    "from sklearn.metrics import classification_report,accuracy_score,confusion_matrix\n",
    "from sklearn.tree import DecisionTreeClassifier\n",
    "from sklearn.model_selection import train_test_split\n",
    "from sklearn.preprocessing import LabelEncoder\n",
    "from sklearn.naive_bayes import MultinomialNB\n",
    "import re\n",
    "from sklearn.ensemble import ExtraTreesClassifier"
   ]
  },
  {
   "cell_type": "code",
   "execution_count": 2,
   "id": "a9eeb325-9e31-44f9-af15-249fd1eddf63",
   "metadata": {},
   "outputs": [
    {
     "data": {
      "text/html": [
       "<div>\n",
       "<style scoped>\n",
       "    .dataframe tbody tr th:only-of-type {\n",
       "        vertical-align: middle;\n",
       "    }\n",
       "\n",
       "    .dataframe tbody tr th {\n",
       "        vertical-align: top;\n",
       "    }\n",
       "\n",
       "    .dataframe thead th {\n",
       "        text-align: right;\n",
       "    }\n",
       "</style>\n",
       "<table border=\"1\" class=\"dataframe\">\n",
       "  <thead>\n",
       "    <tr style=\"text-align: right;\">\n",
       "      <th></th>\n",
       "      <th>Text</th>\n",
       "      <th>Language</th>\n",
       "    </tr>\n",
       "  </thead>\n",
       "  <tbody>\n",
       "    <tr>\n",
       "      <th>0</th>\n",
       "      <td>Nature, in the broadest sense, is the natural...</td>\n",
       "      <td>English</td>\n",
       "    </tr>\n",
       "    <tr>\n",
       "      <th>1</th>\n",
       "      <td>\"Nature\" can refer to the phenomena of the phy...</td>\n",
       "      <td>English</td>\n",
       "    </tr>\n",
       "    <tr>\n",
       "      <th>2</th>\n",
       "      <td>The study of nature is a large, if not the onl...</td>\n",
       "      <td>English</td>\n",
       "    </tr>\n",
       "    <tr>\n",
       "      <th>3</th>\n",
       "      <td>Although humans are part of nature, human acti...</td>\n",
       "      <td>English</td>\n",
       "    </tr>\n",
       "    <tr>\n",
       "      <th>4</th>\n",
       "      <td>[1] The word nature is borrowed from the Old F...</td>\n",
       "      <td>English</td>\n",
       "    </tr>\n",
       "  </tbody>\n",
       "</table>\n",
       "</div>"
      ],
      "text/plain": [
       "                                                Text Language\n",
       "0   Nature, in the broadest sense, is the natural...  English\n",
       "1  \"Nature\" can refer to the phenomena of the phy...  English\n",
       "2  The study of nature is a large, if not the onl...  English\n",
       "3  Although humans are part of nature, human acti...  English\n",
       "4  [1] The word nature is borrowed from the Old F...  English"
      ]
     },
     "execution_count": 2,
     "metadata": {},
     "output_type": "execute_result"
    }
   ],
   "source": [
    "data = pd.read_csv('Language Detection.csv')\n",
    "data.head()"
   ]
  },
  {
   "cell_type": "code",
   "execution_count": 3,
   "id": "a03cab9b-ad00-4695-aef5-35ada8a71100",
   "metadata": {},
   "outputs": [
    {
     "data": {
      "text/plain": [
       "Text        0\n",
       "Language    0\n",
       "dtype: int64"
      ]
     },
     "execution_count": 3,
     "metadata": {},
     "output_type": "execute_result"
    }
   ],
   "source": [
    "# data.isnull().sum()"
   ]
  },
  {
   "cell_type": "code",
   "execution_count": 4,
   "id": "281ba945-7dbb-4e66-b503-ced3a0ef2cd4",
   "metadata": {},
   "outputs": [
    {
     "name": "stdout",
     "output_type": "stream",
     "text": [
      "<class 'pandas.core.frame.DataFrame'>\n",
      "RangeIndex: 10337 entries, 0 to 10336\n",
      "Data columns (total 2 columns):\n",
      " #   Column    Non-Null Count  Dtype \n",
      "---  ------    --------------  ----- \n",
      " 0   Text      10337 non-null  object\n",
      " 1   Language  10337 non-null  object\n",
      "dtypes: object(2)\n",
      "memory usage: 161.6+ KB\n"
     ]
    }
   ],
   "source": [
    "# data.info()"
   ]
  },
  {
   "cell_type": "code",
   "execution_count": 5,
   "id": "9046ff99-61e7-4310-9e91-d3428bf913b3",
   "metadata": {},
   "outputs": [
    {
     "data": {
      "text/plain": [
       "English       1385\n",
       "French        1014\n",
       "Spanish        819\n",
       "Portugeese     739\n",
       "Italian        698\n",
       "Russian        692\n",
       "Sweedish       676\n",
       "Malayalam      594\n",
       "Dutch          546\n",
       "Arabic         536\n",
       "Turkish        474\n",
       "German         470\n",
       "Tamil          469\n",
       "Danish         428\n",
       "Kannada        369\n",
       "Greek          365\n",
       "Hindi           63\n",
       "Name: Language, dtype: int64"
      ]
     },
     "execution_count": 5,
     "metadata": {},
     "output_type": "execute_result"
    }
   ],
   "source": [
    "# data.Language.value_counts()"
   ]
  },
  {
   "cell_type": "code",
   "execution_count": 6,
   "id": "076a186a-ed3f-4909-b229-1794a5e0d526",
   "metadata": {},
   "outputs": [],
   "source": [
    "# [data['Text']=='[1]']"
   ]
  },
  {
   "cell_type": "code",
   "execution_count": null,
   "id": "60b90fb7-f3c8-4f9f-a4ab-73649152b4d6",
   "metadata": {},
   "outputs": [],
   "source": []
  },
  {
   "cell_type": "code",
   "execution_count": 7,
   "id": "61b42f59-6059-4919-950b-6fa761b72d4c",
   "metadata": {},
   "outputs": [],
   "source": [
    "X = data[\"Text\"]\n",
    "y = data[\"Language\"]\n",
    "\n",
    "#Label Encoding to convert it into a numerical form\n",
    "from sklearn.preprocessing import LabelEncoder\n",
    "le = LabelEncoder()\n",
    "y = le.fit_transform(y)"
   ]
  },
  {
   "cell_type": "code",
   "execution_count": 8,
   "id": "276fec55-5b26-43f8-a757-e9f6d95426e4",
   "metadata": {},
   "outputs": [],
   "source": [
    "data_list = []\n",
    "for text in X:         \n",
    "    text = re.sub(r'[!@#$(),n\"%^*?:;~`0-9[]]', ' ', text)\n",
    "    text = text.lower()        \n",
    "    data_list.append(text)"
   ]
  },
  {
   "cell_type": "code",
   "execution_count": 9,
   "id": "5373dc79-b286-4d5c-8828-3269f437fa5c",
   "metadata": {},
   "outputs": [
    {
     "data": {
      "text/plain": [
       "(10337, 39731)"
      ]
     },
     "execution_count": 9,
     "metadata": {},
     "output_type": "execute_result"
    }
   ],
   "source": [
    "# Bag of Words [ converting text into numerical form by creating a Bag of Words model using CountVectorizer.]\n",
    "# print(data_list)\n",
    "from sklearn.feature_extraction.text import CountVectorizer\n",
    "cv = CountVectorizer() # tokenize a collection of text documents\n",
    "X = cv.fit_transform(data_list).toarray()\n",
    "X.shape # (10337, 39419)"
   ]
  },
  {
   "cell_type": "code",
   "execution_count": 10,
   "id": "d359d6aa-e33c-4e2c-a56a-ed731687705d",
   "metadata": {},
   "outputs": [],
   "source": [
    "x_train, x_test, y_train, y_test = train_test_split(X, y, test_size = 0.20, random_state=2)"
   ]
  },
  {
   "cell_type": "code",
   "execution_count": 11,
   "id": "e18b4ae5-82d1-447f-971d-5ff7f32c37b1",
   "metadata": {},
   "outputs": [],
   "source": [
    "# model = DecisionTreeClassifier()\n",
    "# model.fit(x_train, y_train)"
   ]
  },
  {
   "cell_type": "code",
   "execution_count": 12,
   "id": "72a2387b-78ea-40e7-8bb6-e906a10d5cdc",
   "metadata": {},
   "outputs": [],
   "source": [
    "# y_pred = model.predict(x_test)"
   ]
  },
  {
   "cell_type": "code",
   "execution_count": 13,
   "id": "a34f9627-4a6c-41ea-8406-806d5157c8a5",
   "metadata": {},
   "outputs": [],
   "source": [
    "# ac = accuracy_score(y_test, y_pred)\n",
    "# cm = confusion_matrix(y_test, y_pred)\n",
    "# print(ac)"
   ]
  },
  {
   "cell_type": "code",
   "execution_count": 14,
   "id": "42cb4297-f222-486f-9a6f-6e40235b6de3",
   "metadata": {},
   "outputs": [],
   "source": [
    "# model.score(x_train,y_train)"
   ]
  },
  {
   "cell_type": "code",
   "execution_count": 15,
   "id": "3e1cbedc-c014-4131-9c3a-554b1e2b4770",
   "metadata": {},
   "outputs": [],
   "source": [
    "# model.score(x_test,y_test)"
   ]
  },
  {
   "cell_type": "code",
   "execution_count": 16,
   "id": "e3b006b8-b0ad-4904-8e5b-78ced16397b2",
   "metadata": {},
   "outputs": [],
   "source": [
    "# model.score(x_test,y_test)"
   ]
  },
  {
   "cell_type": "code",
   "execution_count": null,
   "id": "7770889c-3b3b-48cd-bad1-eab04e12fe71",
   "metadata": {},
   "outputs": [],
   "source": []
  },
  {
   "cell_type": "code",
   "execution_count": 17,
   "id": "3994fdc9-d055-4d58-a9de-383ca8d0d324",
   "metadata": {},
   "outputs": [],
   "source": [
    "# def predict(text):\n",
    "#     x = cv.transform([text]).toarray() # converting text to bag of words model (Vector)\n",
    "#     lang = model.predict(x) # predicting the language\n",
    "#     lang = le.inverse_transform(lang) # finding the language corresponding the the predicted value\n",
    "#     print(text,':',\"This langauge is in\", lang[0])"
   ]
  },
  {
   "cell_type": "code",
   "execution_count": 18,
   "id": "926d0393-071a-4682-9049-893ea241979d",
   "metadata": {},
   "outputs": [],
   "source": [
    "# predict('you are just mad')\n",
    "# predict('what can you do for mr Tayo')\n",
    "# predict('à´°à´¿à´¶àµ€à´²à´¿à´ªàµà´ªà´¿à´•àµà´•àµà´•à´¯àµà´‚ à´…à´¤àµ à´µà´´à´¿ à´¤àµ€à´°àµà´®à´¾à´¨à´™àµà´™à´³à´¿à´²àµ†à´¤àµà´¤à´¾àµ» à´ª')\n",
    "# predict('Estas trabalho valorizado incluir suporte social')\n",
    "# predict('On constate par notions de patrimoine naturel et de')"
   ]
  },
  {
   "cell_type": "code",
   "execution_count": null,
   "id": "42d04f1d-2db7-444b-b837-93fb6536fa86",
   "metadata": {},
   "outputs": [],
   "source": []
  },
  {
   "cell_type": "code",
   "execution_count": 19,
   "id": "2f52d953-4413-43e1-b6cf-9d3c03100ddd",
   "metadata": {},
   "outputs": [],
   "source": [
    "# model1 = MultinomialNB()"
   ]
  },
  {
   "cell_type": "code",
   "execution_count": 20,
   "id": "428bcf49-3fab-43ef-b5a0-df46caf8143a",
   "metadata": {},
   "outputs": [],
   "source": [
    "# model1.fit(x_train, y_train)"
   ]
  },
  {
   "cell_type": "code",
   "execution_count": 21,
   "id": "096270ef-7a70-4121-ad4e-11da5ffda5c5",
   "metadata": {},
   "outputs": [],
   "source": [
    "# y_pred1 = model1.predict(x_test)"
   ]
  },
  {
   "cell_type": "code",
   "execution_count": 22,
   "id": "40e4db92-f178-459d-8d80-03fdeab8a0e3",
   "metadata": {},
   "outputs": [],
   "source": [
    "# ac = accuracy_score(y_test, y_pred1)\n",
    "# print(ac)"
   ]
  },
  {
   "cell_type": "code",
   "execution_count": 23,
   "id": "053a1775-b7b3-4a88-a492-090826db056f",
   "metadata": {},
   "outputs": [],
   "source": [
    "# def predict(text):\n",
    "#     x = cv.transform([text]).toarray() \n",
    "#     lang = model1.predict(x)\n",
    "#     lang = le.inverse_transform(lang) \n",
    "#     print(text,':',\"This langauge is in\", lang[0] ,'And the Accuracy is', ac)"
   ]
  },
  {
   "cell_type": "code",
   "execution_count": 24,
   "id": "5890172b-7766-4f46-bd51-b6942901c805",
   "metadata": {},
   "outputs": [],
   "source": [
    "# predict('you are just mad')\n",
    "# predict('what can you do for mr Tayo')\n",
    "# predict('à´°à´¿à´¶àµ€à´²à´¿à´ªàµà´ªà´¿à´•àµà´•àµà´•à´¯àµà´‚ à´…à´¤àµ à´µà´´à´¿ à´¤àµ€à´°àµà´®à´¾à´¨à´™àµà´™à´³à´¿à´²àµ†à´¤àµà´¤à´¾àµ» à´ª')\n",
    "# predict('Estas trabalho valorizado incluir suporte social')\n",
    "# predict('On constate par notions de patrimoine naturel et de')"
   ]
  },
  {
   "cell_type": "code",
   "execution_count": 25,
   "id": "0811b9f3-7712-4f82-b957-dfec9e270dc1",
   "metadata": {},
   "outputs": [],
   "source": [
    "# model2 = ExtraTreesClassifier()\n",
    "# model2.fit(x_train, y_train)\n",
    "\n",
    "# model2.save('Extratreelanguage.h5')"
   ]
  },
  {
   "cell_type": "code",
   "execution_count": 26,
   "id": "79a1c713-4b2e-4552-82ea-33e4b2213e24",
   "metadata": {},
   "outputs": [],
   "source": [
    "# def predict(text):\n",
    "#     x = cv.transform([text]).toarray() \n",
    "#     lang = model1.predict(x)\n",
    "#     lang = le.inverse_transform(lang) \n",
    "#     print(text,':',\"This langauge is in\", lang[0])"
   ]
  },
  {
   "cell_type": "code",
   "execution_count": 27,
   "id": "0ca15ec7-2f4c-498a-ab63-3283cc568481",
   "metadata": {},
   "outputs": [],
   "source": [
    "# predict('This is what i love to do')\n",
    "# print('.'*100)\n",
    "# predict('what can you do for mr Tayo?')\n",
    "# print('.'*100)\n",
    "# predict('Lass mich fertig machen.')\n",
    "# print('.'*100)\n",
    "# predict('Embora em geral elogiando o artigo, considerou sua conclusÃ£o')\n",
    "# print('.'*100)\n",
    "# predict('On constate par notions de patrimoine naturel et de')\n",
    "# print('.'*100)\n",
    "# predict('Ad esempio, essi sono stati usati per imparare raccolte di norme')"
   ]
  }
 ],
 "metadata": {
  "kernelspec": {
   "display_name": "base",
   "language": "python",
   "name": "python3"
  },
  "language_info": {
   "codemirror_mode": {
    "name": "ipython",
    "version": 3
   },
   "file_extension": ".py",
   "mimetype": "text/x-python",
   "name": "python",
   "nbconvert_exporter": "python",
   "pygments_lexer": "ipython3",
   "version": "3.8.8"
  },
  "vscode": {
   "interpreter": {
    "hash": "3dcdc92c67f25e1a50f94c7f4b6d1d13d29cd263fa2e79078ef2d4cb7d9fa7f9"
   }
  }
 },
 "nbformat": 4,
 "nbformat_minor": 5
}
